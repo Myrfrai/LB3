{
 "cells": [
  {
   "cell_type": "code",
   "execution_count": null,
   "metadata": {},
   "outputs": [],
   "source": [
    "def convert(grams):\n",
    "    ounces = 28.3495231 * grams\n",
    "    return ounces\n",
    "\n",
    "print(\"How many grams you need for the ingredient?\")\n",
    "grams = float(input())\n",
    "print(convert(grams))"
   ]
  },
  {
   "cell_type": "code",
   "execution_count": null,
   "metadata": {},
   "outputs": [],
   "source": [
    "def tempC(fahren):\n",
    "    centigrade = (5 / 9) * (fahren - 32)\n",
    "    print(\"Your Centigrade temperature is:\", centigrade)\n",
    "    \n",
    "print(\"Your Fahrenheit temperature is: \")\n",
    "fahrenheit = float(input())\n",
    "tempC(fahrenheit)\n"
   ]
  },
  {
   "cell_type": "code",
   "execution_count": null,
   "metadata": {},
   "outputs": [],
   "source": [
    "def solve(numheads, numlegs):\n",
    "    for chickens in range(numheads + 1):\n",
    "        rabbits = numheads - chickens\n",
    "        if 2 * chickens + 4 * rabbits == numlegs:\n",
    "            print(f'Chickens:{chickens}, Rabbits:{rabbits}')\n",
    "heads = 35\n",
    "legs = 94\n",
    "solve(heads, legs)    "
   ]
  },
  {
   "cell_type": "code",
   "execution_count": null,
   "metadata": {},
   "outputs": [],
   "source": [
    "def filter_prime(mylist):\n",
    "    primelist = []\n",
    "    for x in mylist:\n",
    "        count = 0\n",
    "        for i in range(1, x+1):\n",
    "            if x % i == 0:\n",
    "                count += 1\n",
    "            if count > 2:    \n",
    "                break\n",
    "        if count == 2:\n",
    "            primelist.append(x)\n",
    "    return(primelist)     \n",
    "\n",
    "mylist = []\n",
    "print(\"Write Length of list: \")\n",
    "size = int(input())\n",
    "print(\"Input all elements: \")\n",
    "for i in range(size):\n",
    "    number = int(input())\n",
    "    mylist.append(number)\n",
    "\n",
    "print(\"Your list of prime numbers:\",filter_prime(mylist))\n",
    "   "
   ]
  },
  {
   "cell_type": "code",
   "execution_count": null,
   "metadata": {},
   "outputs": [],
   "source": [
    "def permut(line, empty = \"\"):\n",
    "    if len(line) == 0:\n",
    "        print(empty)\n",
    "    else:\n",
    "        for i in range(len(line)):\n",
    "            gera = line[:i] + line[i+1:]\n",
    "            permut(gera, empty + line[i])\n",
    "\n",
    "line = input(\"Insert your string: \")\n",
    "permut(line)"
   ]
  },
  {
   "cell_type": "code",
   "execution_count": null,
   "metadata": {},
   "outputs": [],
   "source": [
    "def reverse(line):\n",
    "    mylist = line.split()\n",
    "    relist = mylist[::-1]\n",
    "    return ' '.join(relist)\n",
    "\n",
    "supra = input(\"Insert your string:\")\n",
    "print(reverse(supra))    "
   ]
  },
  {
   "cell_type": "code",
   "execution_count": null,
   "metadata": {},
   "outputs": [],
   "source": [
    "def has_33(nums, flag = True):\n",
    "    for i in range(len(nums) - 1):\n",
    "        if nums[i] == nums[i+1]:\n",
    "            flag = False\n",
    "        else: continue\n",
    "    return not flag\n",
    "\n",
    "print(has_33([1, 3, 3]))\n",
    "print(has_33([1, 3, 1, 3]))\n",
    "print(has_33([3, 1, 3]))"
   ]
  },
  {
   "cell_type": "code",
   "execution_count": null,
   "metadata": {},
   "outputs": [],
   "source": [
    "def spy_game(nums, flag = True):\n",
    "    line = \"\"\n",
    "    for j in range(len(nums) - 1):\n",
    "        if nums[j] == 0:\n",
    "            line += '0'\n",
    "            continue\n",
    "        elif nums[j] == 7:\n",
    "            line += '7'   \n",
    "            continue\n",
    "    if line == '007':\n",
    "        return flag\n",
    "    else:    \n",
    "        return not flag   \n",
    "\n",
    "print(spy_game([1,2,4,0,0,7,5]))\n",
    "print(spy_game([1,0,2,4,0,5,7]))\n",
    "print(spy_game([1,7,2,0,4,5,0]))"
   ]
  },
  {
   "cell_type": "code",
   "execution_count": null,
   "metadata": {},
   "outputs": [],
   "source": [
    "import math        #for pi-number\n",
    "def vsphere(r):\n",
    "    return (4 * math.pi * r**2)\n",
    "\n",
    "print(vsphere(2))\n",
    "print(vsphere(1))\n",
    "print(vsphere(5))"
   ]
  },
  {
   "cell_type": "code",
   "execution_count": null,
   "metadata": {},
   "outputs": [],
   "source": [
    "def unique(List):\n",
    "    newlist = list()\n",
    "    List.sort()\n",
    "    for x in List:\n",
    "        if x not in newlist:\n",
    "            newlist.append(x)   \n",
    "    return newlist         \n",
    "\n",
    "mylist1 = [1, 1, 1, 2, 2, 3]\n",
    "mylist2 = [-1, 5, -1, 55, 2, 4]\n",
    "mylist3 = [1, 1, 1]\n",
    "print(unique(mylist1))\n",
    "print(unique(mylist2))\n",
    "print(unique(mylist3))"
   ]
  },
  {
   "cell_type": "code",
   "execution_count": 64,
   "metadata": {},
   "outputs": [
    {
     "name": "stdout",
     "output_type": "stream",
     "text": [
      "It is a palindrome!\n"
     ]
    }
   ],
   "source": [
    "def palidrome(lin):\n",
    "    copy = lin[::-1]\n",
    "    if copy == lin:\n",
    "        print('It is a palindrome!')\n",
    "    else: print(\"It is not a palindrom\")    \n",
    "\n",
    "\n",
    "line = input(\"Your string pls: \")\n",
    "palidrome(line)"
   ]
  },
  {
   "cell_type": "code",
   "execution_count": null,
   "metadata": {},
   "outputs": [],
   "source": [
    "def histogram(n):\n",
    "     return n * '*'\n",
    "\n",
    "mylist = [4, 9, 7]\n",
    "for x in mylist:\n",
    "    print(histogram(x))"
   ]
  },
  {
   "cell_type": "code",
   "execution_count": null,
   "metadata": {},
   "outputs": [],
   "source": [
    "import random\n",
    "\n",
    "def guesser():\n",
    "    print(\"Hello! What is your name?\")\n",
    "    name = input()\n",
    "    print(f\"Well, {name}, I am thinking of a number between 1 and 20.\")\n",
    "\n",
    "    fortune = random.randint(1, 20)\n",
    "    count = 0\n",
    "    while True:\n",
    "        print(\"Take a guess\")\n",
    "        atry = int(input())\n",
    "        count += 1\n",
    "        \n",
    "        if atry > fortune:\n",
    "            print(\"Your guess is too high.\")\n",
    "            continue\n",
    "        elif atry < fortune:\n",
    "            print(\"Your guess is too low.\")  \n",
    "            continue \n",
    "        else: \n",
    "            print(f'Good job, {name}! You guessed my number in {count} guesses!') \n",
    "            break\n",
    "\n",
    "guesser()    "
   ]
  }
 ],
 "metadata": {
  "kernelspec": {
   "display_name": "Python 3",
   "language": "python",
   "name": "python3"
  },
  "language_info": {
   "codemirror_mode": {
    "name": "ipython",
    "version": 3
   },
   "file_extension": ".py",
   "mimetype": "text/x-python",
   "name": "python",
   "nbconvert_exporter": "python",
   "pygments_lexer": "ipython3",
   "version": "3.13.1"
  }
 },
 "nbformat": 4,
 "nbformat_minor": 2
}
