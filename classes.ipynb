{
 "cells": [
  {
   "cell_type": "code",
   "execution_count": 5,
   "metadata": {},
   "outputs": [
    {
     "name": "stdout",
     "output_type": "stream",
     "text": [
      "Your big string is: SWDEFR\n"
     ]
    }
   ],
   "source": [
    "class functions:\n",
    "    def __init__(self):\n",
    "        self.line = \"\"\n",
    "\n",
    "    def getstring(self):\n",
    "        self.line = input(\"Your string: \")\n",
    "\n",
    "    def printstring(self):\n",
    "        print(f'Your big string is: {self.line.upper()}')\n",
    "\n",
    "x = functions()\n",
    "x.getstring()\n",
    "x.printstring()"
   ]
  },
  {
   "cell_type": "code",
   "execution_count": 11,
   "metadata": {},
   "outputs": [
    {
     "name": "stdout",
     "output_type": "stream",
     "text": [
      "0\n",
      "25\n"
     ]
    }
   ],
   "source": [
    "class Shape:\n",
    "    def __init__(self):\n",
    "        pass\n",
    "    def area(self):\n",
    "        return 0    \n",
    "class Square(Shape):\n",
    "    def __init__(self, length):\n",
    "        self.length = length\n",
    "    def area(self):\n",
    "        return self.length ** 2\n",
    "sh = Shape()            \n",
    "print(f'{sh.area()}')\n",
    "\n",
    "sq = Square(5)\n",
    "print(f'{sq.area()}')\n"
   ]
  },
  {
   "cell_type": "code",
   "execution_count": 15,
   "metadata": {},
   "outputs": [
    {
     "name": "stdout",
     "output_type": "stream",
     "text": [
      "0\n",
      "45\n"
     ]
    }
   ],
   "source": [
    "class Shape:\n",
    "    def __init__(self):\n",
    "        pass\n",
    "    def area(self):\n",
    "        return 0\n",
    "class Rectangle:\n",
    "    def __init__(self, length, width):\n",
    "        self.length = length\n",
    "        self.width = width\n",
    "    def area(self):\n",
    "        return self.length * self.width\n",
    "sh = Shape()\n",
    "print(sh.area())\n",
    "\n",
    "rc = Rectangle(5, 9)\n",
    "print(rc.area())        \n"
   ]
  },
  {
   "cell_type": "code",
   "execution_count": null,
   "metadata": {},
   "outputs": [],
   "source": [
    "class Point:\n",
    "    def __init__(self, x = 0, y = 0):\n",
    "        self.x = x\n",
    "        self.y = y\n",
    "    def show(self):\n",
    "        print(f'Your coordinates: {self.x, self.y}') \n",
    "    def move(self, x, y):\n",
    "        self.x = x\n",
    "        self.y = y\n",
    "    def dist(self, secpoint):\n",
    "        return ((self.x - secpoint.x)**2 + (self.y - secpoint.y)**2)**0.5\n",
    "point1 = Point(1, 5)        \n",
    "point2 = Point(3, 6)\n",
    "\n",
    "point1.show()\n",
    "point2.show()\n",
    "\n",
    "point1.move(5, 6)\n",
    "point1.show()\n",
    "\n",
    "distance = point1.dist(point2)\n",
    "print(f'Your distance: {distance}')\n"
   ]
  },
  {
   "cell_type": "code",
   "execution_count": 28,
   "metadata": {},
   "outputs": [
    {
     "name": "stdout",
     "output_type": "stream",
     "text": [
      "Deposited 555, your Balance now: 1000000555\n",
      "The operation was succesful. Withdraw 500000000, balance now: 500000555\n",
      "Free money does not exist\n",
      "Your withdraw 999999999999 exceed your balance 500000555. Do you want to take out a loan?\n"
     ]
    }
   ],
   "source": [
    "class Account:\n",
    "    def __init__(self, owner, balance = 0):\n",
    "        self.owner = owner\n",
    "        self.balance = balance\n",
    "    def deposit(self, money):  \n",
    "        if money > 0:\n",
    "            self.balance += money\n",
    "            print(f'Deposited {money}, your Balance now: {self.balance}')\n",
    "        else:\n",
    "            print(\"Where is money? LEBOWSKI\")  \n",
    "    def withdraw(self, money):\n",
    "        if money > self.balance:      \n",
    "            print(f'Your withdraw {money} exceed your balance {self.balance}. Do you want to take out a loan?')    \n",
    "        elif money <= 0:\n",
    "            print(f'Free money does not exist')   \n",
    "        else:\n",
    "            self.balance -= money\n",
    "            print(f'The operation was succesful. Withdraw {money}, balance now: {self.balance}')\n",
    "user = Account('Ilon Musk', 1000000000) \n",
    "user.deposit(555)\n",
    "user.withdraw(500000000)\n",
    "user.withdraw(-9999999999999)\n",
    "user.withdraw(999999999999)\n"
   ]
  },
  {
   "cell_type": "code",
   "execution_count": 34,
   "metadata": {},
   "outputs": [
    {
     "name": "stdout",
     "output_type": "stream",
     "text": [
      "Your prime numbers: [3, 17]\n"
     ]
    }
   ],
   "source": [
    "def filter(n):\n",
    "    if n <= 1:\n",
    "        return False\n",
    "    count = 0\n",
    "    for i in range(1, n + 1):\n",
    "        if n % i == 0:\n",
    "            count += 1\n",
    "    return count == 2\n",
    "\n",
    "numbers = [1, 3, 4, 17, 20]\n",
    "primenum = [num for num in numbers if filter(num)]\n",
    "print(f'Your prime numbers: {primenum}')\n"
   ]
  }
 ],
 "metadata": {
  "kernelspec": {
   "display_name": "Python 3",
   "language": "python",
   "name": "python3"
  },
  "language_info": {
   "codemirror_mode": {
    "name": "ipython",
    "version": 3
   },
   "file_extension": ".py",
   "mimetype": "text/x-python",
   "name": "python",
   "nbconvert_exporter": "python",
   "pygments_lexer": "ipython3",
   "version": "3.13.1"
  }
 },
 "nbformat": 4,
 "nbformat_minor": 2
}
